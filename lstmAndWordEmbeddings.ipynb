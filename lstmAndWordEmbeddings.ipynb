{
  "nbformat": 4,
  "nbformat_minor": 0,
  "metadata": {
    "colab": {
      "provenance": [],
      "gpuType": "T4"
    },
    "kernelspec": {
      "name": "python3",
      "display_name": "Python 3"
    },
    "language_info": {
      "name": "python"
    },
    "accelerator": "GPU"
  },
  "cells": [
    {
      "cell_type": "code",
      "execution_count": 1,
      "metadata": {
        "colab": {
          "base_uri": "https://localhost:8080/",
          "height": 1000
        },
        "id": "UTub5G6XJEX-",
        "outputId": "2099a96e-6f8d-41c7-8111-bfc0c4b1173b"
      },
      "outputs": [
        {
          "output_type": "stream",
          "name": "stderr",
          "text": [
            "[nltk_data] Downloading package punkt to /root/nltk_data...\n",
            "[nltk_data]   Unzipping tokenizers/punkt.zip.\n",
            "[nltk_data] Downloading package punkt_tab to /root/nltk_data...\n",
            "[nltk_data]   Unzipping tokenizers/punkt_tab.zip.\n",
            "[nltk_data] Downloading package stopwords to /root/nltk_data...\n",
            "[nltk_data]   Unzipping corpora/stopwords.zip.\n"
          ]
        },
        {
          "output_type": "stream",
          "name": "stdout",
          "text": [
            "Collecting en-core-web-lg==3.8.0\n",
            "  Downloading https://github.com/explosion/spacy-models/releases/download/en_core_web_lg-3.8.0/en_core_web_lg-3.8.0-py3-none-any.whl (400.7 MB)\n",
            "\u001b[2K     \u001b[90m━━━━━━━━━━━━━━━━━━━━━━━━━━━━━━━━━━━━━━━\u001b[0m \u001b[32m400.7/400.7 MB\u001b[0m \u001b[31m3.7 MB/s\u001b[0m eta \u001b[36m0:00:00\u001b[0m\n",
            "\u001b[?25hInstalling collected packages: en-core-web-lg\n",
            "Successfully installed en-core-web-lg-3.8.0\n",
            "\u001b[38;5;2m✔ Download and installation successful\u001b[0m\n",
            "You can now load the package via spacy.load('en_core_web_lg')\n",
            "\u001b[38;5;3m⚠ Restart to reload dependencies\u001b[0m\n",
            "If you are in a Jupyter or Colab notebook, you may need to restart Python in\n",
            "order to load all the package's dependencies. You can do this by selecting the\n",
            "'Restart kernel' or 'Restart runtime' option.\n"
          ]
        },
        {
          "output_type": "stream",
          "name": "stderr",
          "text": [
            "Epoch 1/20: 100%|██████████| 808/808 [00:04<00:00, 183.50it/s]\n"
          ]
        },
        {
          "output_type": "stream",
          "name": "stdout",
          "text": [
            "Epoch 1/20 - Avg Loss: 0.1513\n"
          ]
        },
        {
          "output_type": "stream",
          "name": "stderr",
          "text": [
            "Epoch 2/20: 100%|██████████| 808/808 [00:03<00:00, 224.72it/s]\n"
          ]
        },
        {
          "output_type": "stream",
          "name": "stdout",
          "text": [
            "Epoch 2/20 - Avg Loss: 0.1134\n"
          ]
        },
        {
          "output_type": "stream",
          "name": "stderr",
          "text": [
            "Epoch 3/20: 100%|██████████| 808/808 [00:03<00:00, 245.18it/s]\n"
          ]
        },
        {
          "output_type": "stream",
          "name": "stdout",
          "text": [
            "Epoch 3/20 - Avg Loss: 0.0951\n"
          ]
        },
        {
          "output_type": "stream",
          "name": "stderr",
          "text": [
            "Epoch 4/20: 100%|██████████| 808/808 [00:03<00:00, 243.04it/s]\n"
          ]
        },
        {
          "output_type": "stream",
          "name": "stdout",
          "text": [
            "Epoch 4/20 - Avg Loss: 0.0831\n"
          ]
        },
        {
          "output_type": "stream",
          "name": "stderr",
          "text": [
            "Epoch 5/20: 100%|██████████| 808/808 [00:03<00:00, 240.43it/s]\n"
          ]
        },
        {
          "output_type": "stream",
          "name": "stdout",
          "text": [
            "Epoch 5/20 - Avg Loss: 0.0738\n"
          ]
        },
        {
          "output_type": "stream",
          "name": "stderr",
          "text": [
            "Epoch 6/20: 100%|██████████| 808/808 [00:03<00:00, 225.85it/s]\n"
          ]
        },
        {
          "output_type": "stream",
          "name": "stdout",
          "text": [
            "Epoch 6/20 - Avg Loss: 0.0657\n"
          ]
        },
        {
          "output_type": "stream",
          "name": "stderr",
          "text": [
            "Epoch 7/20: 100%|██████████| 808/808 [00:03<00:00, 240.23it/s]\n"
          ]
        },
        {
          "output_type": "stream",
          "name": "stdout",
          "text": [
            "Epoch 7/20 - Avg Loss: 0.0588\n"
          ]
        },
        {
          "output_type": "stream",
          "name": "stderr",
          "text": [
            "Epoch 8/20: 100%|██████████| 808/808 [00:03<00:00, 241.61it/s]\n"
          ]
        },
        {
          "output_type": "stream",
          "name": "stdout",
          "text": [
            "Epoch 8/20 - Avg Loss: 0.0526\n"
          ]
        },
        {
          "output_type": "stream",
          "name": "stderr",
          "text": [
            "Epoch 9/20: 100%|██████████| 808/808 [00:03<00:00, 221.76it/s]\n"
          ]
        },
        {
          "output_type": "stream",
          "name": "stdout",
          "text": [
            "Epoch 9/20 - Avg Loss: 0.0470\n"
          ]
        },
        {
          "output_type": "stream",
          "name": "stderr",
          "text": [
            "Epoch 10/20: 100%|██████████| 808/808 [00:03<00:00, 239.94it/s]\n"
          ]
        },
        {
          "output_type": "stream",
          "name": "stdout",
          "text": [
            "Epoch 10/20 - Avg Loss: 0.0422\n"
          ]
        },
        {
          "output_type": "stream",
          "name": "stderr",
          "text": [
            "Epoch 11/20: 100%|██████████| 808/808 [00:03<00:00, 239.04it/s]\n"
          ]
        },
        {
          "output_type": "stream",
          "name": "stdout",
          "text": [
            "Epoch 11/20 - Avg Loss: 0.0380\n"
          ]
        },
        {
          "output_type": "stream",
          "name": "stderr",
          "text": [
            "Epoch 12/20: 100%|██████████| 808/808 [00:03<00:00, 235.20it/s]\n"
          ]
        },
        {
          "output_type": "stream",
          "name": "stdout",
          "text": [
            "Epoch 12/20 - Avg Loss: 0.0340\n"
          ]
        },
        {
          "output_type": "stream",
          "name": "stderr",
          "text": [
            "Epoch 13/20: 100%|██████████| 808/808 [00:03<00:00, 220.97it/s]\n"
          ]
        },
        {
          "output_type": "stream",
          "name": "stdout",
          "text": [
            "Epoch 13/20 - Avg Loss: 0.0306\n"
          ]
        },
        {
          "output_type": "stream",
          "name": "stderr",
          "text": [
            "Epoch 14/20: 100%|██████████| 808/808 [00:03<00:00, 237.45it/s]\n"
          ]
        },
        {
          "output_type": "stream",
          "name": "stdout",
          "text": [
            "Epoch 14/20 - Avg Loss: 0.0275\n"
          ]
        },
        {
          "output_type": "stream",
          "name": "stderr",
          "text": [
            "Epoch 15/20: 100%|██████████| 808/808 [00:03<00:00, 235.84it/s]\n"
          ]
        },
        {
          "output_type": "stream",
          "name": "stdout",
          "text": [
            "Epoch 15/20 - Avg Loss: 0.0247\n"
          ]
        },
        {
          "output_type": "stream",
          "name": "stderr",
          "text": [
            "Epoch 16/20: 100%|██████████| 808/808 [00:03<00:00, 218.85it/s]\n"
          ]
        },
        {
          "output_type": "stream",
          "name": "stdout",
          "text": [
            "Epoch 16/20 - Avg Loss: 0.0225\n"
          ]
        },
        {
          "output_type": "stream",
          "name": "stderr",
          "text": [
            "Epoch 17/20: 100%|██████████| 808/808 [00:03<00:00, 235.77it/s]\n"
          ]
        },
        {
          "output_type": "stream",
          "name": "stdout",
          "text": [
            "Epoch 17/20 - Avg Loss: 0.0206\n"
          ]
        },
        {
          "output_type": "stream",
          "name": "stderr",
          "text": [
            "Epoch 18/20: 100%|██████████| 808/808 [00:03<00:00, 234.23it/s]\n"
          ]
        },
        {
          "output_type": "stream",
          "name": "stdout",
          "text": [
            "Epoch 18/20 - Avg Loss: 0.0185\n"
          ]
        },
        {
          "output_type": "stream",
          "name": "stderr",
          "text": [
            "Epoch 19/20: 100%|██████████| 808/808 [00:03<00:00, 228.92it/s]\n"
          ]
        },
        {
          "output_type": "stream",
          "name": "stdout",
          "text": [
            "Epoch 19/20 - Avg Loss: 0.0172\n"
          ]
        },
        {
          "output_type": "stream",
          "name": "stderr",
          "text": [
            "Epoch 20/20: 100%|██████████| 808/808 [00:03<00:00, 221.98it/s]\n"
          ]
        },
        {
          "output_type": "stream",
          "name": "stdout",
          "text": [
            "Epoch 20/20 - Avg Loss: 0.0160\n",
            "\n",
            "Classification Report:\n",
            "              precision    recall  f1-score   support\n",
            "\n",
            "      afraid       0.68      0.90      0.78       447\n",
            "       angry       0.74      0.94      0.83       457\n",
            "     annoyed       0.84      0.93      0.88       442\n",
            "anticipating       0.67      0.93      0.78       356\n",
            "     anxious       0.75      0.92      0.83       420\n",
            "apprehensive       0.79      0.95      0.86       278\n",
            "     ashamed       0.73      0.93      0.82       332\n",
            "      caring       0.88      0.95      0.92       383\n",
            "   confident       0.84      0.95      0.89       390\n",
            "     content       0.94      0.94      0.94       392\n",
            "  devastated       0.82      0.93      0.87       360\n",
            "disappointed       0.79      0.94      0.86       419\n",
            "   disgusted       0.90      0.97      0.93       414\n",
            " embarrassed       0.89      0.97      0.93       324\n",
            "     excited       0.69      0.91      0.79       528\n",
            "    faithful       0.84      0.92      0.88       237\n",
            "     furious       0.73      0.93      0.82       403\n",
            "    grateful       0.91      0.92      0.92       457\n",
            "      guilty       0.84      0.97      0.90       445\n",
            "     hopeful       0.89      0.95      0.92       384\n",
            "   impressed       0.84      0.92      0.88       436\n",
            "     jealous       0.89      0.98      0.93       364\n",
            "      joyful       0.70      0.94      0.80       391\n",
            "      lonely       0.85      0.97      0.91       410\n",
            "   nostalgic       0.88      0.97      0.92       387\n",
            "    prepared       0.92      0.97      0.94       385\n",
            "       proud       0.83      0.98      0.90       435\n",
            "         sad       0.73      0.94      0.82       449\n",
            " sentimental       0.82      0.93      0.87       367\n",
            "   surprised       0.86      0.96      0.91       663\n",
            "   terrified       0.68      0.94      0.79       423\n",
            "    trusting       0.94      0.94      0.94       341\n",
            "\n",
            "   micro avg       0.81      0.94      0.87     12919\n",
            "   macro avg       0.82      0.94      0.87     12919\n",
            "weighted avg       0.81      0.94      0.87     12919\n",
            " samples avg       0.86      0.94      0.89     12919\n",
            "\n",
            "Accuracy: 0.7783884201563589\n",
            "Cross-Validation Results (Using Emotion Detection):\n",
            "Emotion Accuracy: 40.00%\n",
            "Intent Accuracy: 10.00%\n",
            "Average Empathy Score: 1.00\n",
            "Average Relevance Score: 0.48\n",
            "\n",
            "Cross-Validation Results (Without Emotion Detection):\n",
            "Emotion Accuracy: 40.00%\n",
            "Intent Accuracy: 10.00%\n",
            "Average Empathy Score: 0.50\n",
            "Average Relevance Score: 0.44\n"
          ]
        },
        {
          "output_type": "display_data",
          "data": {
            "text/plain": [
              "<Figure size 1400x600 with 2 Axes>"
            ],
            "image/png": "[encoded data removed]"
          },
          "metadata": {}
        }
      ],
      "source": [
        "# ======================================\n",
        "# LSTM + Word Embeddings + Chatbot Interface (Refactored with Bidirectional LSTM, Dropout, and Extended Training)\n",
        "# ======================================\n",
        "\n",
        "import os, sys\n",
        "import pandas as pd\n",
        "import numpy as np\n",
        "import torch\n",
        "import torch.nn as nn\n",
        "import torch.optim as optim\n",
        "from torch.utils.data import Dataset, DataLoader\n",
        "from sklearn.model_selection import train_test_split\n",
        "from sklearn.metrics import classification_report, accuracy_score\n",
        "from sklearn.preprocessing import MultiLabelBinarizer\n",
        "from tqdm import tqdm\n",
        "import re\n",
        "import nltk\n",
        "import spacy\n",
        "from textblob import TextBlob\n",
        "import matplotlib.pyplot as plt\n",
        "import seaborn as sns\n",
        "from sklearn.metrics import multilabel_confusion_matrix\n",
        "\n",
        "# Download required NLTK resources\n",
        "nltk.download('punkt')\n",
        "nltk.download('punkt_tab')\n",
        "nltk.download('stopwords')\n",
        "from nltk.tokenize import word_tokenize\n",
        "from nltk.corpus import stopwords\n",
        "\n",
        "# Install and load SpaCy model (ensure this runs each new Colab session)\n",
        "!python -m spacy download en_core_web_lg\n",
        "nlp = spacy.load(\"en_core_web_lg\")\n",
        "stop_words = set(stopwords.words('english'))\n",
        "\n",
        "# ---------------------\n",
        "# Preprocessing Functions\n",
        "# ---------------------\n",
        "def clean_text(text):\n",
        "    text = str(text).lower().strip()\n",
        "    text = re.sub(r\"[^\\w\\s']\", '', text)\n",
        "    tokens = word_tokenize(text)\n",
        "    tokens = [word for word in tokens if word not in stop_words]\n",
        "    return tokens\n",
        "\n",
        "def get_sentiment(text):\n",
        "    analysis = TextBlob(text)\n",
        "    return (\n",
        "        \"Extremely Positive\" if analysis.sentiment.polarity > 0.5 else\n",
        "        \"Positive\" if analysis.sentiment.polarity > 0 else\n",
        "        \"Neutral\" if analysis.sentiment.polarity == 0 else\n",
        "        \"Extremely Negative\" if analysis.sentiment.polarity < -0.5 else\n",
        "        \"Negative\"\n",
        "    )\n",
        "\n",
        "def get_ner(text):\n",
        "    doc = nlp(text)\n",
        "    entities = [ent.text for ent in doc.ents]\n",
        "    return entities if entities else [chunk.text for chunk in doc.noun_chunks]\n",
        "\n",
        "# ---------------------\n",
        "# Load and Clean Data\n",
        "# ---------------------\n",
        "df = pd.read_csv(\"emotion-emotion_69k.csv\")\n",
        "df = df.dropna(subset=[\"Situation\", \"emotion\"])\n",
        "df = df[df[\"emotion\"].str.contains(\"[a-zA-Z]\", na=False)]\n",
        "df[\"text\"] = df[\"Situation\"].astype(str)\n",
        "df[\"labels\"] = df[\"emotion\"].apply(lambda x: [label.strip() for label in x.split(',') if len(label.strip()) > 1])\n",
        "\n",
        "# Filter rare labels\n",
        "from collections import Counter\n",
        "flat_labels = [lbl for sublist in df[\"labels\"] for lbl in sublist]\n",
        "label_counts = Counter(flat_labels)\n",
        "valid_labels = set(k for k, v in label_counts.items() if v >= 50)\n",
        "df[\"labels\"] = df[\"labels\"].apply(lambda labels: [lbl for lbl in labels if lbl in valid_labels])\n",
        "df = df[df[\"labels\"].map(len) > 0]\n",
        "\n",
        "# Text preprocessing\n",
        "df[\"clean_text\"] = df[\"text\"].apply(lambda x: ' '.join(clean_text(x)))\n",
        "df[\"tokens\"] = df[\"clean_text\"].apply(lambda x: x.split())\n",
        "df[\"sentiment\"] = df[\"clean_text\"].apply(get_sentiment)\n",
        "df[\"NER\"] = df[\"clean_text\"].apply(get_ner)\n",
        "\n",
        "# Encode labels\n",
        "mlb = MultiLabelBinarizer()\n",
        "y = mlb.fit_transform(df[\"labels\"])\n",
        "\n",
        "# ---------------------\n",
        "# Tokenization and Vocabulary Construction\n",
        "# ---------------------\n",
        "all_tokens = [token for sublist in df[\"tokens\"].tolist() for token in sublist]\n",
        "vocab = {word: idx+2 for idx, word in enumerate(set(all_tokens))}\n",
        "vocab[\"<PAD>\"] = 0\n",
        "vocab[\"<UNK>\"] = 1\n",
        "\n",
        "def tokens_to_ids(tokens, vocab, max_len=50):\n",
        "    ids = [vocab.get(token, vocab[\"<UNK>\"]) for token in tokens][:max_len]\n",
        "    return ids + [vocab[\"<PAD>\"]]*(max_len - len(ids))\n",
        "\n",
        "X = df[\"tokens\"].apply(lambda x: tokens_to_ids(x, vocab))\n",
        "X = np.stack(X.values)\n",
        "\n",
        "# ---------------------\n",
        "# Dataset and DataLoader\n",
        "# ---------------------\n",
        "class EmotionDataset(Dataset):\n",
        "    def __init__(self, X, y):\n",
        "        self.X = torch.tensor(X, dtype=torch.long)\n",
        "        self.y = torch.tensor(y, dtype=torch.float32)\n",
        "    def __len__(self):\n",
        "        return len(self.X)\n",
        "    def __getitem__(self, idx):\n",
        "        return self.X[idx], self.y[idx]\n",
        "\n",
        "X_train, X_test, y_train, y_test = train_test_split(X, y, test_size=0.2, random_state=42)\n",
        "train_loader = DataLoader(EmotionDataset(X_train, y_train), batch_size=64, shuffle=True)\n",
        "test_loader = DataLoader(EmotionDataset(X_test, y_test), batch_size=64)\n",
        "\n",
        "# ---------------------\n",
        "# Modified Model Definition: Bidirectional LSTM with Dropout\n",
        "# ---------------------\n",
        "class BiLSTMClassifier(nn.Module):\n",
        "    def __init__(self, vocab_size, embedding_dim, hidden_dim, output_dim, dropout=0.3):\n",
        "        super().__init__()\n",
        "        self.embedding = nn.Embedding(vocab_size, embedding_dim, padding_idx=0)\n",
        "        self.lstm = nn.LSTM(embedding_dim, hidden_dim, batch_first=True, bidirectional=True)\n",
        "        self.dropout = nn.Dropout(dropout)\n",
        "        self.fc = nn.Linear(hidden_dim * 2, output_dim)\n",
        "    def forward(self, x):\n",
        "        x = self.embedding(x)\n",
        "        lstm_out, (hidden, cell) = self.lstm(x)\n",
        "        hidden_cat = torch.cat((hidden[-2], hidden[-1]), dim=1)\n",
        "        hidden_drop = self.dropout(hidden_cat)\n",
        "        logits = self.fc(hidden_drop)\n",
        "        return logits\n",
        "\n",
        "model = BiLSTMClassifier(vocab_size=len(vocab), embedding_dim=100, hidden_dim=128, output_dim=y.shape[1], dropout=0.3)\n",
        "device = torch.device(\"cuda\" if torch.cuda.is_available() else \"cpu\")\n",
        "model = model.to(device)\n",
        "\n",
        "# Use BCEWithLogitsLoss (internally applies sigmoid)\n",
        "criterion = nn.BCEWithLogitsLoss()\n",
        "optimizer = optim.Adam(model.parameters(), lr=0.0005)\n",
        "\n",
        "# ---------------------\n",
        "# Training Loop (20 Epochs)\n",
        "# ---------------------\n",
        "num_epochs = 20\n",
        "for epoch in range(num_epochs):\n",
        "    model.train()\n",
        "    total_loss = 0\n",
        "    for inputs, labels in tqdm(train_loader, desc=f\"Epoch {epoch+1}/{num_epochs}\"):\n",
        "        inputs, labels = inputs.to(device), labels.to(device)\n",
        "        optimizer.zero_grad()\n",
        "        logits = model(inputs)\n",
        "        loss = criterion(logits, labels)\n",
        "        loss.backward()\n",
        "        optimizer.step()\n",
        "        total_loss += loss.item()\n",
        "    avg_loss = total_loss / len(train_loader)\n",
        "    print(f\"Epoch {epoch+1}/{num_epochs} - Avg Loss: {avg_loss:.4f}\")\n",
        "\n",
        "# ---------------------\n",
        "# Evaluation on Test Set\n",
        "# ---------------------\n",
        "model.eval()\n",
        "y_true, y_pred = [], []\n",
        "with torch.no_grad():\n",
        "    for inputs, labels in test_loader:\n",
        "        inputs = inputs.to(device)\n",
        "        logits = model(inputs)\n",
        "        preds = torch.sigmoid(logits).cpu().numpy()\n",
        "        batch_pred = (preds > 0.1).astype(int)\n",
        "        y_pred.extend(batch_pred)\n",
        "        y_true.extend(labels.numpy())\n",
        "\n",
        "print(\"\\nClassification Report:\")\n",
        "print(classification_report(y_true, y_pred, target_names=mlb.classes_, zero_division=0))\n",
        "print(\"Accuracy:\", accuracy_score(np.array(y_true), np.array(y_pred)))\n",
        "\n",
        "# ---------------------\n",
        "# Chatbot Functions (Using the LSTM Model)\n",
        "# ---------------------\n",
        "def predict_emotion(text, threshold=0.1):\n",
        "    model.eval()\n",
        "    tokens = tokens_to_ids(clean_text(text), vocab)\n",
        "    input_tensor = torch.tensor([tokens], dtype=torch.long).to(device)\n",
        "    with torch.no_grad():\n",
        "        logits = model(input_tensor)\n",
        "        output = torch.sigmoid(logits).cpu().numpy()[0]\n",
        "    predicted = [mlb.classes_[i] for i, p in enumerate(output) if p > threshold]\n",
        "    if not predicted:\n",
        "        predicted = [mlb.classes_[int(np.argmax(output))]]\n",
        "    return predicted\n",
        "\n",
        "# ---------------------\n",
        "# Additional Utility Functions for Ablation Study\n",
        "# ---------------------\n",
        "def infer_intent(user_input):\n",
        "    \"\"\"A simple keyword-based intent inference.\"\"\"\n",
        "    lower_input = user_input.lower()\n",
        "    if any(greet in lower_input for greet in [\"hello\", \"hi\", \"good morning\", \"good evening\"]):\n",
        "        return \"greeting\"\n",
        "    elif any(word in lower_input for word in [\"sad\", \"anxious\", \"depressed\", \"overwhelmed\", \"stress\"]):\n",
        "        return \"problem\"\n",
        "    else:\n",
        "        return \"neutral\"\n",
        "\n",
        "def generate_response(user_input, predicted_emotions, predicted_intent, use_emotion):\n",
        "    \"\"\"Generate a simple templated chatbot response.\"\"\"\n",
        "    if use_emotion:\n",
        "        return f\"I understand that you're feeling {' and '.join(predicted_emotions)}. I'm here to listen and support you.\"\n",
        "    else:\n",
        "        return f\"I hear you. Let's talk about it more.\"\n",
        "\n",
        "def compute_empathy_score(response, expected_emotion):\n",
        "    \"\"\"\n",
        "    Compute a dummy empathy score.\n",
        "    If the response contains supportive phrases, return 1.0;\n",
        "    otherwise 0.5. (This is a placeholder for a more advanced metric.)\n",
        "    \"\"\"\n",
        "    lower_response = response.lower()\n",
        "    if any(word in lower_response for word in [\"understand\", \"care\", \"listen\", \"support\"]):\n",
        "        return 1.0\n",
        "    else:\n",
        "        return 0.5\n",
        "\n",
        "def compute_relevance_score(user_input, response, predicted_intent):\n",
        "    \"\"\"\n",
        "    Compute a dummy relevance score based on Jaccard similarity.\n",
        "    The score is scaled between 0 and 10.\n",
        "    \"\"\"\n",
        "    set_input = set(user_input.lower().split())\n",
        "    set_response = set(response.lower().split())\n",
        "    if len(set_input.union(set_response)) == 0:\n",
        "        return 0\n",
        "    jaccard = len(set_input.intersection(set_response)) / len(set_input.union(set_response))\n",
        "    return jaccard * 10\n",
        "\n",
        "# ---------------------\n",
        "# Our Custom Cross-Validation Ablation Study\n",
        "# ---------------------\n",
        "def cross_validation_study(test_data, use_emotion=True):\n",
        "    emotion_correct = 0\n",
        "    intent_correct = 0\n",
        "    empathy_scores = []\n",
        "    relevance_scores = []\n",
        "\n",
        "    for idx, row in test_data.iterrows():\n",
        "        user_input = row[\"user_input\"]\n",
        "        expected_emotions = row[\"expected_emotion\"]  # list of expected emotions\n",
        "        expected_intent = row[\"expected_intent\"]       # expected intent as string\n",
        "\n",
        "        # Get predicted emotions from our LSTM chatbot model\n",
        "        predicted_emotions = predict_emotion(user_input, threshold=0.1)\n",
        "        # Get intent from our simple inference function\n",
        "        predicted_intent = infer_intent(user_input)\n",
        "\n",
        "        # Check if at least one predicted emotion is among the expected emotions\n",
        "        if any(em in expected_emotions for em in predicted_emotions):\n",
        "            emotion_correct += 1\n",
        "        # Check for intent correctness (case-insensitive)\n",
        "        if predicted_intent.lower() == expected_intent.lower():\n",
        "            intent_correct += 1\n",
        "\n",
        "        # Generate a chatbot response based on whether we use emotion detection\n",
        "        response = generate_response(user_input, predicted_emotions, predicted_intent, use_emotion)\n",
        "\n",
        "        # Compute empathy and relevance scores using our dummy functions\n",
        "        empathy = compute_empathy_score(response, expected_emotions)\n",
        "        relevance = compute_relevance_score(user_input, response, predicted_intent)\n",
        "\n",
        "        empathy_scores.append(empathy)\n",
        "        relevance_scores.append(relevance)\n",
        "\n",
        "    total_samples = len(test_data)\n",
        "    emotion_accuracy = emotion_correct / total_samples * 100\n",
        "    intent_accuracy = intent_correct / total_samples * 100\n",
        "    avg_empathy = sum(empathy_scores) / len(empathy_scores) if empathy_scores else 0\n",
        "    avg_relevance = sum(relevance_scores) / len(relevance_scores) if relevance_scores else 0\n",
        "\n",
        "    return emotion_accuracy, intent_accuracy, avg_empathy, avg_relevance\n",
        "\n",
        "# ---------------------\n",
        "# Define Test Data for the Ablation Study\n",
        "# ---------------------\n",
        "test_data = pd.DataFrame({\n",
        "    \"user_input\": [\n",
        "        \"I feel so anxious about work\",\n",
        "        \"Hi, just saying hello\",\n",
        "        \"I’m really sad today\",\n",
        "        \"I don’t know how to cope with stress anymore\",\n",
        "        \"I’m so happy I got a promotion!\",\n",
        "        \"Can you help me feel less overwhelmed?\",\n",
        "        \"Everything feels pointless lately\",\n",
        "        \"Hey, how’s it going?\",\n",
        "        \"I’m scared about my upcoming exam\",\n",
        "        \"I just need someone to listen to me\",\n",
        "        \"I feel like I’m failing at everything\",\n",
        "        \"Life has been great lately, just wanted to share\",\n",
        "        \"I get so angry and I don’t know why\",\n",
        "        \"Can you suggest ways to relax?\",\n",
        "        \"I’m lonely, no one seems to care\",\n",
        "        \"Good morning! Feeling okay today\",\n",
        "        \"I’m worried about my family all the time\",\n",
        "        \"I don’t feel like myself anymore\",\n",
        "        \"Any tips for staying motivated?\",\n",
        "        \"I had a rough day, just need to vent\"\n",
        "    ],\n",
        "    \"expected_emotion\": [\n",
        "        [\"anxious\"], [\"neutral\"], [\"sad\"], [\"anxious\"], [\"happy\"],\n",
        "        [\"anxious\"], [\"sad\"], [\"content\"], [\"anxious\"], [\"caring\"],\n",
        "        [\"disappointed\"], [\"content\"], [\"angry\"], [\"content\"], [\"lonely\"],\n",
        "        [\"content\"], [\"anxious\"], [\"lonely\"], [\"confident\"], [\"sad\"]\n",
        "    ],\n",
        "    \"expected_intent\": [\n",
        "        \"problem\", \"greeting\", \"sad\", \"stressed\", \"problem\",\n",
        "        \"stressed\", \"depressed\", \"happy\", \"problem\", \"understand\",\n",
        "        \"worthless\", \"happy\", \"venting\", \"meditation\", \"sad\",\n",
        "        \"morning\", \"scared\", \"change\", \"seeking\", \"stressed\"\n",
        "    ]\n",
        "})\n",
        "\n",
        "# ---------------------\n",
        "# Run Cross-Validation Ablation Study\n",
        "# ---------------------\n",
        "emotion_acc, intent_acc, avg_empathy, avg_relevance = cross_validation_study(test_data, use_emotion=True)\n",
        "print(\"Cross-Validation Results (Using Emotion Detection):\")\n",
        "print(f\"Emotion Accuracy: {emotion_acc:.2f}%\")\n",
        "print(f\"Intent Accuracy: {intent_acc:.2f}%\")\n",
        "print(f\"Average Empathy Score: {avg_empathy:.2f}\")\n",
        "print(f\"Average Relevance Score: {avg_relevance:.2f}\")\n",
        "\n",
        "# For comparison, we can run the study without emotion detection:\n",
        "emotion_acc_no, intent_acc_no, avg_empathy_no, avg_relevance_no = cross_validation_study(test_data, use_emotion=False)\n",
        "print(\"\\nCross-Validation Results (Without Emotion Detection):\")\n",
        "print(f\"Emotion Accuracy: {emotion_acc_no:.2f}%\")\n",
        "print(f\"Intent Accuracy: {intent_acc_no:.2f}%\")\n",
        "print(f\"Average Empathy Score: {avg_empathy_no:.2f}\")\n",
        "print(f\"Average Relevance Score: {avg_relevance_no:.2f}\")\n",
        "\n",
        "# ---------------------\n",
        "# Visualization of Cross-Validation Metrics\n",
        "# ---------------------\n",
        "# Prepare data for visualization\n",
        "labels = [\"With Emotion\", \"Without Emotion\"]\n",
        "\n",
        "# Accuracy values (we plot both emotion and intent accuracy side by side)\n",
        "emotion_accuracies = [emotion_acc, emotion_acc_no]\n",
        "intent_accuracies = [intent_acc, intent_acc_no]\n",
        "\n",
        "# Empathy and relevance scores\n",
        "empathy_scores = [avg_empathy, avg_empathy_no]\n",
        "relevance_scores = [avg_relevance, avg_relevance_no]\n",
        "\n",
        "plt.figure(figsize=(14,6))\n",
        "\n",
        "# Accuracy bar chart\n",
        "plt.subplot(1,2,1)\n",
        "bar_width = 0.35\n",
        "x = np.arange(len(labels))\n",
        "plt.bar(x - bar_width/2, emotion_accuracies, width=bar_width, label=\"Emotion Accuracy\", color='skyblue')\n",
        "plt.bar(x + bar_width/2, intent_accuracies, width=bar_width, label=\"Intent Accuracy\", color='salmon')\n",
        "plt.xticks(x, labels)\n",
        "plt.ylim(0, 100)\n",
        "plt.ylabel(\"Accuracy (%)\")\n",
        "plt.title(\"Cross-Validation Accuracies\")\n",
        "plt.legend()\n",
        "\n",
        "# Empathy and Relevance scores bar chart\n",
        "plt.subplot(1,2,2)\n",
        "plt.bar(labels, empathy_scores, width=0.4, label=\"Average Empathy Score\", color='lightgreen')\n",
        "plt.bar(labels, relevance_scores, width=0.4, label=\"Average Relevance Score\", color='violet', alpha=0.7, bottom=0)\n",
        "plt.ylabel(\"Score\")\n",
        "plt.title(\"Average Empathy & Relevance Scores\")\n",
        "plt.legend()\n",
        "\n",
        "plt.tight_layout()\n",
        "plt.show()\n"
      ]
    }
  ]
}