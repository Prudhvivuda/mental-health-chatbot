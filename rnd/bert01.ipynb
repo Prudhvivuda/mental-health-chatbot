{
 "cells": [
  {
   "cell_type": "code",
   "execution_count": null,
   "metadata": {},
   "outputs": [
    {
     "name": "stdout",
     "output_type": "stream",
     "text": [
      "Rows after filtering: 283240\n"
     ]
    },
    {
     "name": "stderr",
     "output_type": "stream",
     "text": [
      "Some weights of BertForSequenceClassification were not initialized from the model checkpoint at bert-base-uncased and are newly initialized: ['classifier.bias', 'classifier.weight']\n",
      "You should probably TRAIN this model on a down-stream task to be able to use it for predictions and inference.\n"
     ]
    },
    {
     "name": "stdout",
     "output_type": "stream",
     "text": [
      "Inputs length: 283240\n",
      "Labels length: 283240\n"
     ]
    },
    {
     "name": "stderr",
     "output_type": "stream",
     "text": [
      "/Users/prudhvivuda/.virtualenvs/genai/lib/python3.12/site-packages/transformers/training_args.py:1594: FutureWarning: `evaluation_strategy` is deprecated and will be removed in version 4.46 of 🤗 Transformers. Use `eval_strategy` instead\n",
      "  warnings.warn(\n"
     ]
    },
    {
     "data": {
      "text/html": [
       "\n",
       "    <div>\n",
       "      \n",
       "      <progress value='2919' max='169944' style='width:300px; height:20px; vertical-align: middle;'></progress>\n",
       "      [  2919/169944 08:58 < 8:34:09, 5.41 it/s, Epoch 0.05/3]\n",
       "    </div>\n",
       "    <table border=\"1\" class=\"dataframe\">\n",
       "  <thead>\n",
       " <tr style=\"text-align: left;\">\n",
       "      <th>Epoch</th>\n",
       "      <th>Training Loss</th>\n",
       "      <th>Validation Loss</th>\n",
       "    </tr>\n",
       "  </thead>\n",
       "  <tbody>\n",
       "  </tbody>\n",
       "</table><p>"
      ],
      "text/plain": [
       "<IPython.core.display.HTML object>"
      ]
     },
     "metadata": {},
     "output_type": "display_data"
    }
   ],
   "source": [
    "import torch\n",
    "from transformers import BertTokenizer, BertForSequenceClassification, Trainer, TrainingArguments\n",
    "from sklearn.model_selection import train_test_split\n",
    "import pandas as pd\n",
    "\n",
    "# Load your dataset\n",
    "df = pd.read_csv(\"processed_chatbot_data.csv\")\n",
    "\n",
    "# Map sentiment labels to numeric values\n",
    "sentiment_map = {\n",
    "    \"Extremely Negative\": 0,\n",
    "    \"Negative\": 1,\n",
    "    \"Neutral\": 2,\n",
    "    \"Positive\": 3,\n",
    "    \"Extremely Positive\": 4\n",
    "}\n",
    "df['label'] = df['sentiment'].map(sentiment_map)\n",
    "\n",
    "# Filter out rows with NaN in clean_text or label\n",
    "df = df.dropna(subset=['clean_text', 'label'])\n",
    "print(\"Rows after filtering:\", len(df))\n",
    "\n",
    "# Load BERT tokenizer and model\n",
    "tokenizer = BertTokenizer.from_pretrained('bert-base-uncased')\n",
    "model = BertForSequenceClassification.from_pretrained('bert-base-uncased', num_labels=5)\n",
    "\n",
    "# Preprocessing function\n",
    "def preprocess(texts):\n",
    "    cleaned_texts = [str(text) for text in texts if pd.notnull(text)]\n",
    "    if not cleaned_texts:\n",
    "        raise ValueError(\"No valid text entries found after cleaning.\")\n",
    "    return tokenizer(cleaned_texts, padding=True, truncation=True, max_length=128, return_tensors=\"pt\")\n",
    "\n",
    "# Prepare dataset\n",
    "inputs = preprocess(df['clean_text'].tolist())\n",
    "labels = torch.tensor(df['label'].tolist())\n",
    "\n",
    "# Verify lengths match\n",
    "print(\"Inputs length:\", inputs['input_ids'].shape[0])\n",
    "print(\"Labels length:\", labels.shape[0])\n",
    "assert inputs['input_ids'].shape[0] == labels.shape[0], \"Mismatch between inputs and labels!\"\n",
    "\n",
    "# Split into train and test sets\n",
    "train_inputs, test_inputs, train_labels, test_labels = train_test_split(\n",
    "    inputs['input_ids'], labels, test_size=0.2, random_state=42\n",
    ")\n",
    "train_masks = train_inputs.ne(0).float()\n",
    "test_masks = test_inputs.ne(0).float()\n",
    "\n",
    "# Convert to torch Dataset\n",
    "class SentimentDataset(torch.utils.data.Dataset):\n",
    "    def __init__(self, encodings, labels):\n",
    "        self.encodings = encodings\n",
    "        self.labels = labels\n",
    "\n",
    "    def __getitem__(self, idx):\n",
    "        item = {key: val[idx] for key, val in self.encodings.items()}\n",
    "        item['labels'] = self.labels[idx]\n",
    "        return item\n",
    "\n",
    "    def __len__(self):\n",
    "        return len(self.labels)\n",
    "\n",
    "train_dataset = SentimentDataset(\n",
    "    {'input_ids': train_inputs, 'attention_mask': train_masks}, train_labels\n",
    ")\n",
    "test_dataset = SentimentDataset(\n",
    "    {'input_ids': test_inputs, 'attention_mask': test_masks}, test_labels\n",
    ")\n",
    "\n",
    "# Training arguments\n",
    "training_args = TrainingArguments(\n",
    "    output_dir='./results',\n",
    "    num_train_epochs=3,\n",
    "    per_device_train_batch_size=4,\n",
    "    per_device_eval_batch_size=4,\n",
    "    warmup_steps=100,\n",
    "    weight_decay=0.01,\n",
    "    logging_dir='./logs',\n",
    "    logging_steps=10,\n",
    "    evaluation_strategy=\"epoch\",\n",
    "    save_strategy=\"epoch\",\n",
    "    load_best_model_at_end=True,\n",
    ")\n",
    "\n",
    "# Trainer\n",
    "trainer = Trainer(\n",
    "    model=model,\n",
    "    args=training_args,\n",
    "    train_dataset=train_dataset,\n",
    "    eval_dataset=test_dataset,\n",
    ")\n",
    "\n",
    "# Train the model\n",
    "trainer.train()\n",
    "\n",
    "# Save the model\n",
    "model.save_pretrained(\"./sentiment_bert_model\")\n",
    "tokenizer.save_pretrained(\"./sentiment_bert_model\")\n",
    "\n",
    "print(\"Model training complete!\")"
   ]
  },
  {
   "cell_type": "markdown",
   "metadata": {},
   "source": [
    "## Testing"
   ]
  },
  {
   "cell_type": "code",
   "execution_count": null,
   "metadata": {},
   "outputs": [],
   "source": [
    "model = BertForSequenceClassification.from_pretrained(\"./sentiment_bert_model\")\n",
    "tokenizer = BertTokenizer.from_pretrained(\"./sentiment_bert_model\")\n",
    "model.eval()\n",
    "\n",
    "def predict_sentiment(text):\n",
    "    inputs = tokenizer(text, padding=True, truncation=True, max_length=128, return_tensors=\"pt\")\n",
    "    with torch.no_grad():\n",
    "        outputs = model(**inputs)\n",
    "    logits = outputs.logits\n",
    "    predicted_class = torch.argmax(logits, dim=1).item()\n",
    "    return {0: \"Extremely Negative\", 1: \"Negative\", 2: \"Neutral\", 3: \"Positive\", 4: \"Extremely Positive\"}[predicted_class]\n",
    "\n",
    "test_texts = [\"game hurt\", \"man love reddit\", \"right dont care fuck em\"]\n",
    "for text in test_texts:\n",
    "    print(f\"Input: {text}\")\n",
    "    print(f\"Predicted Sentiment: {predict_sentiment(text)}\")"
   ]
  }
 ],
 "metadata": {
  "kernelspec": {
   "display_name": "genai",
   "language": "python",
   "name": "python3"
  },
  "language_info": {
   "codemirror_mode": {
    "name": "ipython",
    "version": 3
   },
   "file_extension": ".py",
   "mimetype": "text/x-python",
   "name": "python",
   "nbconvert_exporter": "python",
   "pygments_lexer": "ipython3",
   "version": "3.12.8"
  }
 },
 "nbformat": 4,
 "nbformat_minor": 2
}
